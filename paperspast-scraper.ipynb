{
 "cells": [
  {
   "cell_type": "markdown",
   "metadata": {},
   "source": [
    "# Papers Past Scraper\n",
    "\n",
    "This notebook is designed to scrape a specific publication from [Papers Past](https://paperspast.natlib.govt.nz/). In this case: [New Zealand Police Gazette](https://paperspast.natlib.govt.nz/periodicals/new-zealand-police-gazette)."
   ]
  },
  {
   "cell_type": "code",
   "execution_count": 59,
   "metadata": {},
   "outputs": [],
   "source": [
    "import requests\n",
    "import os\n",
    "import time\n",
    "import bs4 as bs\n",
    "from selenium import webdriver\n",
    "import urllib.parse"
   ]
  },
  {
   "cell_type": "code",
   "execution_count": 18,
   "metadata": {},
   "outputs": [],
   "source": [
    "#configure the driver path ...\n",
    "driver_path = 'C:/applications/geckodriver' # these need to be installed obviously"
   ]
  },
  {
   "cell_type": "code",
   "execution_count": 9,
   "metadata": {},
   "outputs": [],
   "source": [
    "# set directory paths\n",
    "issues_dir = r'cache/issues'\n",
    "contents_dir = r'cache/contents'\n",
    "corpus_dir = r'corpus'\n",
    "\n",
    "# make sure the required directories are created\n",
    "if not os.path.exists(issues_dir):\n",
    "    os.makedirs(issues_dir)\n",
    "if not os.path.exists(contents_dir):\n",
    "    os.makedirs(contents_dir)\n",
    "if not os.path.exists(corpus_dir):\n",
    "    os.makedirs(corpus_dir)"
   ]
  },
  {
   "cell_type": "markdown",
   "metadata": {},
   "source": [
    "Configure the start url below. This should be the first issue of the publication in question. The rest of the issues are accessed by finding the 'Next issue' link."
   ]
  },
  {
   "cell_type": "code",
   "execution_count": 62,
   "metadata": {},
   "outputs": [],
   "source": [
    "start_url = 'https://paperspast.natlib.govt.nz/periodicals/new-zealand-police-gazette/1877/07/02'\n",
    "\n",
    "# this sets a base_url for use in resolving urls extracted from the page ...\n",
    "url = urllib.parse.urlparse(start_url)\n",
    "base_url = url.scheme + '://' + url.netloc"
   ]
  },
  {
   "cell_type": "code",
   "execution_count": null,
   "metadata": {
    "scrolled": true
   },
   "outputs": [
    {
     "name": "stdout",
     "output_type": "stream",
     "text": [
      "Retrieve https://paperspast.natlib.govt.nz/periodicals/new-zealand-police-gazette/1877/07/02\n",
      "Retrieve https://paperspast.natlib.govt.nz/periodicals/new-zealand-police-gazette/1877/07/16\n",
      "Retrieve https://paperspast.natlib.govt.nz/periodicals/new-zealand-police-gazette/1877/07/30\n",
      "Retrieve https://paperspast.natlib.govt.nz/periodicals/new-zealand-police-gazette/1877/08/13\n",
      "Retrieve https://paperspast.natlib.govt.nz/periodicals/new-zealand-police-gazette/1877/08/27\n",
      "Retrieve https://paperspast.natlib.govt.nz/periodicals/new-zealand-police-gazette/1877/09/10\n",
      "Retrieve https://paperspast.natlib.govt.nz/periodicals/new-zealand-police-gazette/1877/09/24\n",
      "Retrieve https://paperspast.natlib.govt.nz/periodicals/new-zealand-police-gazette/1877/10/08\n",
      "Retrieve https://paperspast.natlib.govt.nz/periodicals/new-zealand-police-gazette/1877/10/22\n",
      "Retrieve https://paperspast.natlib.govt.nz/periodicals/new-zealand-police-gazette/1877/11/05\n",
      "Retrieve https://paperspast.natlib.govt.nz/periodicals/new-zealand-police-gazette/1877/11/19\n",
      "Retrieve https://paperspast.natlib.govt.nz/periodicals/new-zealand-police-gazette/1877/12/03\n",
      "Retrieve https://paperspast.natlib.govt.nz/periodicals/new-zealand-police-gazette/1877/12/17\n",
      "Retrieve https://paperspast.natlib.govt.nz/periodicals/new-zealand-police-gazette/1877/12/31\n",
      "Retrieve https://paperspast.natlib.govt.nz/periodicals/new-zealand-police-gazette/1878/01/16\n",
      "Retrieve https://paperspast.natlib.govt.nz/periodicals/new-zealand-police-gazette/1878/01/30\n",
      "Retrieve https://paperspast.natlib.govt.nz/periodicals/new-zealand-police-gazette/1878/02/13\n",
      "Retrieve https://paperspast.natlib.govt.nz/periodicals/new-zealand-police-gazette/1878/02/27\n",
      "Retrieve https://paperspast.natlib.govt.nz/periodicals/new-zealand-police-gazette/1878/03/13\n",
      "Retrieve https://paperspast.natlib.govt.nz/periodicals/new-zealand-police-gazette/1878/03/27\n",
      "Retrieve https://paperspast.natlib.govt.nz/periodicals/new-zealand-police-gazette/1878/04/10\n",
      "Retrieve https://paperspast.natlib.govt.nz/periodicals/new-zealand-police-gazette/1878/04/24\n",
      "Retrieve https://paperspast.natlib.govt.nz/periodicals/new-zealand-police-gazette/1878/05/08\n",
      "Retrieve https://paperspast.natlib.govt.nz/periodicals/new-zealand-police-gazette/1878/05/22\n",
      "Retrieve https://paperspast.natlib.govt.nz/periodicals/new-zealand-police-gazette/1878/06/05\n",
      "Retrieve https://paperspast.natlib.govt.nz/periodicals/new-zealand-police-gazette/1878/06/19\n",
      "Retrieve https://paperspast.natlib.govt.nz/periodicals/new-zealand-police-gazette/1878/07/03\n",
      "Retrieve https://paperspast.natlib.govt.nz/periodicals/new-zealand-police-gazette/1878/07/17\n",
      "Retrieve https://paperspast.natlib.govt.nz/periodicals/new-zealand-police-gazette/1878/07/31\n",
      "Retrieve https://paperspast.natlib.govt.nz/periodicals/new-zealand-police-gazette/1878/08/14\n",
      "Retrieve https://paperspast.natlib.govt.nz/periodicals/new-zealand-police-gazette/1878/08/28\n",
      "Retrieve https://paperspast.natlib.govt.nz/periodicals/new-zealand-police-gazette/1878/09/11\n",
      "Retrieve https://paperspast.natlib.govt.nz/periodicals/new-zealand-police-gazette/1878/09/25\n",
      "Retrieve https://paperspast.natlib.govt.nz/periodicals/new-zealand-police-gazette/1878/10/09\n",
      "Retrieve https://paperspast.natlib.govt.nz/periodicals/new-zealand-police-gazette/1878/10/23\n",
      "Retrieve https://paperspast.natlib.govt.nz/periodicals/new-zealand-police-gazette/1878/11/06\n",
      "Retrieve https://paperspast.natlib.govt.nz/periodicals/new-zealand-police-gazette/1878/11/20\n",
      "Retrieve https://paperspast.natlib.govt.nz/periodicals/new-zealand-police-gazette/1878/12/04\n",
      "Retrieve https://paperspast.natlib.govt.nz/periodicals/new-zealand-police-gazette/1878/12/18\n",
      "Retrieve https://paperspast.natlib.govt.nz/periodicals/new-zealand-police-gazette/1879/01/01\n",
      "Retrieve https://paperspast.natlib.govt.nz/periodicals/new-zealand-police-gazette/1879/01/15\n",
      "Retrieve https://paperspast.natlib.govt.nz/periodicals/new-zealand-police-gazette/1879/01/29\n",
      "Retrieve https://paperspast.natlib.govt.nz/periodicals/new-zealand-police-gazette/1879/02/12\n",
      "Retrieve https://paperspast.natlib.govt.nz/periodicals/new-zealand-police-gazette/1879/02/26\n",
      "Retrieve https://paperspast.natlib.govt.nz/periodicals/new-zealand-police-gazette/1879/03/12\n",
      "Retrieve https://paperspast.natlib.govt.nz/periodicals/new-zealand-police-gazette/1879/03/26\n",
      "Retrieve https://paperspast.natlib.govt.nz/periodicals/new-zealand-police-gazette/1879/04/09\n",
      "Retrieve https://paperspast.natlib.govt.nz/periodicals/new-zealand-police-gazette/1879/04/23\n",
      "Retrieve https://paperspast.natlib.govt.nz/periodicals/new-zealand-police-gazette/1879/05/07\n",
      "Retrieve https://paperspast.natlib.govt.nz/periodicals/new-zealand-police-gazette/1879/05/21\n",
      "Retrieve https://paperspast.natlib.govt.nz/periodicals/new-zealand-police-gazette/1879/06/04\n",
      "Retrieve https://paperspast.natlib.govt.nz/periodicals/new-zealand-police-gazette/1879/06/18\n",
      "Retrieve https://paperspast.natlib.govt.nz/periodicals/new-zealand-police-gazette/1879/07/02\n",
      "Retrieve https://paperspast.natlib.govt.nz/periodicals/new-zealand-police-gazette/1879/07/16\n",
      "Retrieve https://paperspast.natlib.govt.nz/periodicals/new-zealand-police-gazette/1879/07/30\n",
      "Retrieve https://paperspast.natlib.govt.nz/periodicals/new-zealand-police-gazette/1879/08/13\n",
      "Retrieve https://paperspast.natlib.govt.nz/periodicals/new-zealand-police-gazette/1879/08/27\n",
      "Retrieve https://paperspast.natlib.govt.nz/periodicals/new-zealand-police-gazette/1879/09/10\n",
      "Retrieve https://paperspast.natlib.govt.nz/periodicals/new-zealand-police-gazette/1879/10/08\n",
      "Retrieve https://paperspast.natlib.govt.nz/periodicals/new-zealand-police-gazette/1879/10/22\n",
      "Retrieve https://paperspast.natlib.govt.nz/periodicals/new-zealand-police-gazette/1879/11/05\n",
      "Retrieve https://paperspast.natlib.govt.nz/periodicals/new-zealand-police-gazette/1879/11/19\n",
      "Retrieve https://paperspast.natlib.govt.nz/periodicals/new-zealand-police-gazette/1879/12/03\n",
      "Retrieve https://paperspast.natlib.govt.nz/periodicals/new-zealand-police-gazette/1879/12/17\n",
      "Retrieve https://paperspast.natlib.govt.nz/periodicals/new-zealand-police-gazette/1879/12/31\n",
      "Retrieve https://paperspast.natlib.govt.nz/periodicals/new-zealand-police-gazette/1880/01/14\n",
      "Retrieve https://paperspast.natlib.govt.nz/periodicals/new-zealand-police-gazette/1880/01/28\n",
      "Retrieve https://paperspast.natlib.govt.nz/periodicals/new-zealand-police-gazette/1880/02/11\n",
      "Retrieve https://paperspast.natlib.govt.nz/periodicals/new-zealand-police-gazette/1880/02/25\n",
      "Retrieve https://paperspast.natlib.govt.nz/periodicals/new-zealand-police-gazette/1880/03/10\n",
      "Retrieve https://paperspast.natlib.govt.nz/periodicals/new-zealand-police-gazette/1880/03/24\n",
      "Retrieve https://paperspast.natlib.govt.nz/periodicals/new-zealand-police-gazette/1880/04/07\n",
      "Retrieve https://paperspast.natlib.govt.nz/periodicals/new-zealand-police-gazette/1880/04/21\n",
      "Retrieve https://paperspast.natlib.govt.nz/periodicals/new-zealand-police-gazette/1880/05/05\n",
      "Retrieve https://paperspast.natlib.govt.nz/periodicals/new-zealand-police-gazette/1880/05/19\n",
      "Retrieve https://paperspast.natlib.govt.nz/periodicals/new-zealand-police-gazette/1880/06/02\n",
      "Retrieve https://paperspast.natlib.govt.nz/periodicals/new-zealand-police-gazette/1880/06/16\n",
      "Retrieve https://paperspast.natlib.govt.nz/periodicals/new-zealand-police-gazette/1880/06/30\n",
      "Retrieve https://paperspast.natlib.govt.nz/periodicals/new-zealand-police-gazette/1880/07/14\n",
      "Retrieve https://paperspast.natlib.govt.nz/periodicals/new-zealand-police-gazette/1880/07/28\n",
      "Retrieve https://paperspast.natlib.govt.nz/periodicals/new-zealand-police-gazette/1880/08/11\n",
      "Retrieve https://paperspast.natlib.govt.nz/periodicals/new-zealand-police-gazette/1880/08/25\n",
      "Retrieve https://paperspast.natlib.govt.nz/periodicals/new-zealand-police-gazette/1880/09/08\n",
      "Retrieve https://paperspast.natlib.govt.nz/periodicals/new-zealand-police-gazette/1880/09/22\n",
      "Retrieve https://paperspast.natlib.govt.nz/periodicals/new-zealand-police-gazette/1880/10/06\n",
      "Retrieve https://paperspast.natlib.govt.nz/periodicals/new-zealand-police-gazette/1880/10/20\n",
      "Retrieve https://paperspast.natlib.govt.nz/periodicals/new-zealand-police-gazette/1880/11/03\n",
      "Retrieve https://paperspast.natlib.govt.nz/periodicals/new-zealand-police-gazette/1880/11/17\n",
      "Retrieve https://paperspast.natlib.govt.nz/periodicals/new-zealand-police-gazette/1880/12/01\n"
     ]
    },
    {
     "name": "stdout",
     "output_type": "stream",
     "text": [
      "Retrieve https://paperspast.natlib.govt.nz/periodicals/new-zealand-police-gazette/1880/12/15\n",
      "Retrieve https://paperspast.natlib.govt.nz/periodicals/new-zealand-police-gazette/1880/12/29\n",
      "Retrieve https://paperspast.natlib.govt.nz/periodicals/new-zealand-police-gazette/1881/01/12\n",
      "Retrieve https://paperspast.natlib.govt.nz/periodicals/new-zealand-police-gazette/1881/01/26\n",
      "Retrieve https://paperspast.natlib.govt.nz/periodicals/new-zealand-police-gazette/1881/02/09\n",
      "Retrieve https://paperspast.natlib.govt.nz/periodicals/new-zealand-police-gazette/1881/02/23\n",
      "Retrieve https://paperspast.natlib.govt.nz/periodicals/new-zealand-police-gazette/1881/03/09\n",
      "Retrieve https://paperspast.natlib.govt.nz/periodicals/new-zealand-police-gazette/1881/03/23\n",
      "Retrieve https://paperspast.natlib.govt.nz/periodicals/new-zealand-police-gazette/1881/04/06\n",
      "Retrieve https://paperspast.natlib.govt.nz/periodicals/new-zealand-police-gazette/1881/04/20\n",
      "Retrieve https://paperspast.natlib.govt.nz/periodicals/new-zealand-police-gazette/1881/05/04\n",
      "Retrieve https://paperspast.natlib.govt.nz/periodicals/new-zealand-police-gazette/1881/05/18\n",
      "Retrieve https://paperspast.natlib.govt.nz/periodicals/new-zealand-police-gazette/1881/06/01\n",
      "Retrieve https://paperspast.natlib.govt.nz/periodicals/new-zealand-police-gazette/1881/06/15\n",
      "Retrieve https://paperspast.natlib.govt.nz/periodicals/new-zealand-police-gazette/1881/06/29\n",
      "Retrieve https://paperspast.natlib.govt.nz/periodicals/new-zealand-police-gazette/1881/07/13\n",
      "Retrieve https://paperspast.natlib.govt.nz/periodicals/new-zealand-police-gazette/1881/07/27\n",
      "Retrieve https://paperspast.natlib.govt.nz/periodicals/new-zealand-police-gazette/1881/08/10\n",
      "Retrieve https://paperspast.natlib.govt.nz/periodicals/new-zealand-police-gazette/1881/08/24\n",
      "Retrieve https://paperspast.natlib.govt.nz/periodicals/new-zealand-police-gazette/1881/09/07\n",
      "Retrieve https://paperspast.natlib.govt.nz/periodicals/new-zealand-police-gazette/1881/09/21\n",
      "Retrieve https://paperspast.natlib.govt.nz/periodicals/new-zealand-police-gazette/1881/10/05\n"
     ]
    }
   ],
   "source": [
    "driver = webdriver.Firefox(executable_path = driver_path)\n",
    "next_url = start_url\n",
    "while next_url != False:\n",
    "    print('Retrieve', next_url)\n",
    "    driver.get(next_url)\n",
    "    \n",
    "    # build filename for cache\n",
    "    url = urllib.parse.urlparse(next_url)\n",
    "    filename = url.path.strip('/').replace('/' ,'-') + '.txt'\n",
    "\n",
    "    # cache file\n",
    "    f = open(issues_dir + '/' + filename, 'w', encoding='utf-8')\n",
    "    f.write(driver.page_source)\n",
    "    f.close()\n",
    "    \n",
    "    # extract next link using beautiful soup\n",
    "    soup = bs.BeautifulSoup(driver.page_source)\n",
    "    link = soup.select_one(\"div.show-for-medium div.pager__right a\")\n",
    "    if link is None:\n",
    "        next_url = False\n",
    "    else:\n",
    "        next_url = urllib.parse.urljoin(base_url, link['href']) \n",
    "        time.sleep(5)"
   ]
  },
  {
   "cell_type": "code",
   "execution_count": null,
   "metadata": {},
   "outputs": [],
   "source": []
  }
 ],
 "metadata": {
  "kernelspec": {
   "display_name": "Python 3",
   "language": "python",
   "name": "python3"
  },
  "language_info": {
   "codemirror_mode": {
    "name": "ipython",
    "version": 3
   },
   "file_extension": ".py",
   "mimetype": "text/x-python",
   "name": "python",
   "nbconvert_exporter": "python",
   "pygments_lexer": "ipython3",
   "version": "3.7.3"
  }
 },
 "nbformat": 4,
 "nbformat_minor": 2
}
